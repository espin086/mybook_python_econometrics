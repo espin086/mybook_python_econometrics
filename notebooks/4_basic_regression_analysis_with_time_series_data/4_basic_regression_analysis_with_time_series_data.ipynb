{
 "cells": [
  {
   "cell_type": "markdown",
   "metadata": {},
   "source": [
    "## Effect of Inflation and Deficits on Interest Rates"
   ]
  },
  {
   "cell_type": "code",
   "execution_count": 24,
   "metadata": {
    "ExecuteTime": {
     "end_time": "2020-04-04T20:57:16.424373Z",
     "start_time": "2020-04-04T20:57:16.420547Z"
    }
   },
   "outputs": [],
   "source": [
    "\n",
    "import math\n",
    "import pandas as pd\n",
    "import seaborn as sns\n",
    "import statsmodels.api as sm\n",
    "import statsmodels.stats.api as sms\n",
    "from statsmodels.stats.outliers_influence import OLSInfluence\n",
    "from statsmodels.stats.outliers_influence import variance_inflation_factor\n",
    "from statsmodels.compat import lzip\n",
    "import statsmodels.formula.api as smf\n",
    "from IPython.display import Image\n",
    "import plotly\n",
    "import plotly.graph_objs as go\n",
    "import matplotlib.pyplot as plt\n"
   ]
  },
  {
   "cell_type": "code",
   "execution_count": 25,
   "metadata": {
    "ExecuteTime": {
     "end_time": "2020-04-04T20:57:16.430277Z",
     "start_time": "2020-04-04T20:57:16.427309Z"
    }
   },
   "outputs": [],
   "source": [
    "def inspect_col_names(xls_name):\n",
    "    #print data dictionary after file is loaded\n",
    "    f = open('../../data/{0}.des'.format(xls_name), 'r')\n",
    "    file_contents = f.read()\n",
    "    print(file_contents)\n",
    "    return None\n",
    "\n"
   ]
  },
  {
   "cell_type": "code",
   "execution_count": 26,
   "metadata": {
    "ExecuteTime": {
     "end_time": "2020-04-04T20:57:16.434919Z",
     "start_time": "2020-04-04T20:57:16.431851Z"
    }
   },
   "outputs": [
    {
     "name": "stdout",
     "output_type": "stream",
     "text": [
      "INTDEF.DES\n",
      "\n",
      "year      i3        inf       rec       out       def       i3_1      inf_1    \n",
      "def_1     ci3       cinf      cdef      y77\n",
      "\n",
      "  Obs:    49\n",
      "\n",
      "  1. year                     1948-1996\n",
      "  2. i3                       3 mo. T bill rate\n",
      "  3. inf                      CPI inflation rate\n",
      "  4. rec                      federal receipts, % GDP\n",
      "  5. out                      federal outlays, % GDP\n",
      "  6. def                      out - rec (deficit as % GDP)\n",
      "  7. i3_1                     i3[t-1]\n",
      "  8. inf_1                    inf[t-1]\n",
      "  9. def_1                    def[t-1]\n",
      " 10. ci3                      i3 - i3_1\n",
      " 11. cinf                     inf - inf_1\n",
      " 12. cdef                     def - def_1\n",
      " 13. y77                      =1 year >= 1977; change in FY\n",
      "\n",
      "\n"
     ]
    }
   ],
   "source": [
    "inspect_col_names(xls_name='INTDEF')"
   ]
  },
  {
   "cell_type": "code",
   "execution_count": 27,
   "metadata": {
    "ExecuteTime": {
     "end_time": "2020-04-04T20:57:16.445505Z",
     "start_time": "2020-04-04T20:57:16.436731Z"
    }
   },
   "outputs": [],
   "source": [
    "\n",
    "def rename_cols_and_save(xls_name):\n",
    "    df = pd.read_excel(\"../../data/{0}.xls\".format(xls_name), index_col=None, header=None)\n",
    "    if xls_name == 'hprice1':\n",
    "        names_dict = {0:'price', \n",
    "                     1:'assess', \n",
    "                     2:'bdrms',\n",
    "                     3:'lotsize', \n",
    "                     4:'sqrft', \n",
    "                     5:'colonial',\n",
    "                     6:'lprice', \n",
    "                     7:'lassess', \n",
    "                     8:'llotsize',\n",
    "                     9:'lsqrft', \n",
    "                    }\n",
    "    elif xls_name == 'saving':\n",
    "         names_dict = {0:'sav', \n",
    "                     1:'inc', \n",
    "                     2:'size',\n",
    "                     3:'edu', \n",
    "                     4:'age', \n",
    "                     5:'black',\n",
    "                     6:'cons', \n",
    "                      }\n",
    "    elif xls_name == '401k':    \n",
    "        names_dict = {0:'prate', \n",
    "                     1:'mrate', \n",
    "                     2:'totpart',\n",
    "                     3:'totelg', \n",
    "                     4:'age', \n",
    "                     5:'totemp',\n",
    "                     6:'sole', \n",
    "                     7:'ltotemp', \n",
    "                      }\n",
    "        \n",
    "    elif xls_name == '401ksubs': \n",
    "        names_dict = {0:'e401k', \n",
    "                     1:'inc', \n",
    "                     2:'marr',\n",
    "                     3:'male', \n",
    "                     4:'age', \n",
    "                     5:'fsize',\n",
    "                     6:'nettfa', \n",
    "                     7:'p401k',\n",
    "                     8:'pira',\n",
    "                     9:'incsq', \n",
    "                     10:'agesq',\n",
    "                      }\n",
    "    elif xls_name == 'INTDEF':\n",
    "             names_dict = {0:'year', \n",
    "                     1:'i3', \n",
    "                     2:'inf',\n",
    "                     3:'rec', \n",
    "                     4:'out', \n",
    "                     5:'def',\n",
    "                     6:'i3_1', \n",
    "                     7:'inf_1',\n",
    "                     8:'def_1',\n",
    "                     9:'ci3', \n",
    "                     10:'cinf',\n",
    "                     11:'cdef', \n",
    "                     12:'y77',\n",
    "                      }\n",
    "        \n",
    "        \n",
    "        \n",
    "    df.rename(columns = names_dict, inplace = True)\n",
    "    df.to_csv(\"../../data/{0}.csv\".format(xls_name), index=False)\n",
    "    \n",
    "    \n",
    "    return df"
   ]
  },
  {
   "cell_type": "code",
   "execution_count": 30,
   "metadata": {
    "ExecuteTime": {
     "end_time": "2020-04-04T20:57:54.179609Z",
     "start_time": "2020-04-04T20:57:54.150943Z"
    }
   },
   "outputs": [
    {
     "data": {
      "text/html": [
       "<div>\n",
       "<style scoped>\n",
       "    .dataframe tbody tr th:only-of-type {\n",
       "        vertical-align: middle;\n",
       "    }\n",
       "\n",
       "    .dataframe tbody tr th {\n",
       "        vertical-align: top;\n",
       "    }\n",
       "\n",
       "    .dataframe thead th {\n",
       "        text-align: right;\n",
       "    }\n",
       "</style>\n",
       "<table border=\"1\" class=\"dataframe\">\n",
       "  <thead>\n",
       "    <tr style=\"text-align: right;\">\n",
       "      <th></th>\n",
       "      <th>year</th>\n",
       "      <th>i3</th>\n",
       "      <th>inf</th>\n",
       "      <th>rec</th>\n",
       "      <th>out</th>\n",
       "      <th>def</th>\n",
       "      <th>i3_1</th>\n",
       "      <th>inf_1</th>\n",
       "      <th>def_1</th>\n",
       "      <th>ci3</th>\n",
       "      <th>cinf</th>\n",
       "      <th>cdef</th>\n",
       "      <th>y77</th>\n",
       "    </tr>\n",
       "  </thead>\n",
       "  <tbody>\n",
       "    <tr>\n",
       "      <th>0</th>\n",
       "      <td>1948</td>\n",
       "      <td>1.04</td>\n",
       "      <td>8.1</td>\n",
       "      <td>16.4</td>\n",
       "      <td>11.7</td>\n",
       "      <td>-4.700000</td>\n",
       "      <td>.</td>\n",
       "      <td>.</td>\n",
       "      <td>.</td>\n",
       "      <td>.</td>\n",
       "      <td>.</td>\n",
       "      <td>.</td>\n",
       "      <td>0</td>\n",
       "    </tr>\n",
       "    <tr>\n",
       "      <th>1</th>\n",
       "      <td>1949</td>\n",
       "      <td>1.10</td>\n",
       "      <td>-1.2</td>\n",
       "      <td>14.6</td>\n",
       "      <td>14.4</td>\n",
       "      <td>-0.200001</td>\n",
       "      <td>1.04</td>\n",
       "      <td>8.1</td>\n",
       "      <td>-4.7</td>\n",
       "      <td>0.0600001</td>\n",
       "      <td>-9.3</td>\n",
       "      <td>4.5</td>\n",
       "      <td>0</td>\n",
       "    </tr>\n",
       "    <tr>\n",
       "      <th>2</th>\n",
       "      <td>1950</td>\n",
       "      <td>1.22</td>\n",
       "      <td>1.3</td>\n",
       "      <td>14.5</td>\n",
       "      <td>15.6</td>\n",
       "      <td>1.100000</td>\n",
       "      <td>1.1</td>\n",
       "      <td>-1.2</td>\n",
       "      <td>-0.200001</td>\n",
       "      <td>0.12</td>\n",
       "      <td>2.5</td>\n",
       "      <td>1.3</td>\n",
       "      <td>0</td>\n",
       "    </tr>\n",
       "    <tr>\n",
       "      <th>3</th>\n",
       "      <td>1951</td>\n",
       "      <td>1.55</td>\n",
       "      <td>7.9</td>\n",
       "      <td>16.1</td>\n",
       "      <td>14.2</td>\n",
       "      <td>-1.900001</td>\n",
       "      <td>1.22</td>\n",
       "      <td>1.3</td>\n",
       "      <td>1.1</td>\n",
       "      <td>0.33</td>\n",
       "      <td>6.6</td>\n",
       "      <td>-3</td>\n",
       "      <td>0</td>\n",
       "    </tr>\n",
       "    <tr>\n",
       "      <th>4</th>\n",
       "      <td>1952</td>\n",
       "      <td>1.77</td>\n",
       "      <td>1.9</td>\n",
       "      <td>18.9</td>\n",
       "      <td>19.4</td>\n",
       "      <td>0.500000</td>\n",
       "      <td>1.55</td>\n",
       "      <td>7.9</td>\n",
       "      <td>-1.9</td>\n",
       "      <td>0.22</td>\n",
       "      <td>-6</td>\n",
       "      <td>2.4</td>\n",
       "      <td>0</td>\n",
       "    </tr>\n",
       "  </tbody>\n",
       "</table>\n",
       "</div>"
      ],
      "text/plain": [
       "   year    i3  inf   rec   out       def  i3_1 inf_1     def_1        ci3  \\\n",
       "0  1948  1.04  8.1  16.4  11.7 -4.700000     .     .         .          .   \n",
       "1  1949  1.10 -1.2  14.6  14.4 -0.200001  1.04   8.1      -4.7  0.0600001   \n",
       "2  1950  1.22  1.3  14.5  15.6  1.100000   1.1  -1.2 -0.200001       0.12   \n",
       "3  1951  1.55  7.9  16.1  14.2 -1.900001  1.22   1.3       1.1       0.33   \n",
       "4  1952  1.77  1.9  18.9  19.4  0.500000  1.55   7.9      -1.9       0.22   \n",
       "\n",
       "  cinf cdef  y77  \n",
       "0    .    .    0  \n",
       "1 -9.3  4.5    0  \n",
       "2  2.5  1.3    0  \n",
       "3  6.6   -3    0  \n",
       "4   -6  2.4    0  "
      ]
     },
     "execution_count": 30,
     "metadata": {},
     "output_type": "execute_result"
    }
   ],
   "source": [
    "df = rename_cols_and_save(xls_name='INTDEF')\n",
    "df.head()"
   ]
  },
  {
   "cell_type": "code",
   "execution_count": 31,
   "metadata": {
    "ExecuteTime": {
     "end_time": "2020-04-04T20:58:15.273312Z",
     "start_time": "2020-04-04T20:58:15.261369Z"
    }
   },
   "outputs": [],
   "source": [
    "class EDA(object):\n",
    "    \n",
    "    def __init__(self, df, y):\n",
    "        self.df = df\n",
    "        self.y_string = y\n",
    "        self.y = df[y]\n",
    "        return None\n",
    "    \n",
    "    \n",
    "    def inspect(self):\n",
    "        inspect = {}\n",
    "        inspect['head'] = self.df.head()\n",
    "        inspect['describe'] = self.df.describe().T\n",
    "        inspect['dtypes'] = self.df.dtypes\n",
    "        return inspect\n",
    "        \n",
    "        return inspect \n",
    "    \n",
    "    def _dist_plot(self, df, var):\n",
    "        plt.figure()\n",
    "        sns_plot = sns.distplot(df[var], color='b').get_figure()\n",
    "        sns_plot.savefig(\"dist_plot_{0}.png\".format(var))\n",
    "        return sns_plot\n",
    "    \n",
    "    \n",
    "    def variation(self):\n",
    "        numerical = self.df.select_dtypes(include=np.number)\n",
    "        for col in numerical.columns: \n",
    "            self._dist_plot(df=numerical, var=col)   \n",
    "        return None\n",
    "    \n",
    "    \n",
    "    def _scatter_matrix(self):\n",
    "        numerical = self.df.select_dtypes(include=np.number)\n",
    "        plt.figure()\n",
    "        sns_plot = sns.pairplot(numerical)\n",
    "        sns_plot.savefig(\"scatter_matrix_plot.png\".format())\n",
    "        return None\n",
    "    \n",
    "    def _box_plot(self, var_x):\n",
    "        plt.figure()\n",
    "        sns_plot = sns.boxplot(x=var_x, y=self.y, data=self.df).get_figure()\n",
    "        sns_plot.savefig(\"box_plot_{0}_{1}.png\".format(var_x, self.y_string))\n",
    "        return None\n",
    "    \n",
    "    def _scatter_plot(self, var_x):\n",
    "        sns_plot = sns.lmplot(x=var_x, y=self.y_string, data=self.df)\n",
    "        sns_plot.savefig(\"correlation_{0}_{1}.png\".format(var_x, self.y_string))\n",
    "        return None\n",
    "    \n",
    "    def covariation(self):\n",
    "        self._scatter_matrix()\n",
    "        \n",
    "        categorical = self.df.select_dtypes(include=['bool', 'category']) \n",
    "        for col in categorical.columns:\n",
    "            self._box_plot(var_x = col)\n",
    "         \n",
    "        numerical = self.df.select_dtypes(include=np.number)\n",
    "        for col in numerical.columns:\n",
    "            self._scatter_plot(var_x=col)\n",
    "        return None\n",
    "    \n",
    "    def run(self):\n",
    "        self.variation()\n",
    "        self.covariation()\n",
    "        return None\n",
    "    \n",
    "    pass"
   ]
  },
  {
   "cell_type": "code",
   "execution_count": 32,
   "metadata": {
    "ExecuteTime": {
     "end_time": "2020-04-04T20:58:34.057397Z",
     "start_time": "2020-04-04T20:58:34.055155Z"
    }
   },
   "outputs": [],
   "source": [
    "my_eda = EDA(df, y='i3')"
   ]
  },
  {
   "cell_type": "code",
   "execution_count": 33,
   "metadata": {
    "ExecuteTime": {
     "end_time": "2020-04-04T20:58:39.271777Z",
     "start_time": "2020-04-04T20:58:39.241168Z"
    }
   },
   "outputs": [
    {
     "data": {
      "text/plain": [
       "{'head':    year    i3  inf   rec   out       def  i3_1 inf_1     def_1        ci3  \\\n",
       " 0  1948  1.04  8.1  16.4  11.7 -4.700000     .     .         .          .   \n",
       " 1  1949  1.10 -1.2  14.6  14.4 -0.200001  1.04   8.1      -4.7  0.0600001   \n",
       " 2  1950  1.22  1.3  14.5  15.6  1.100000   1.1  -1.2 -0.200001       0.12   \n",
       " 3  1951  1.55  7.9  16.1  14.2 -1.900001  1.22   1.3       1.1       0.33   \n",
       " 4  1952  1.77  1.9  18.9  19.4  0.500000  1.55   7.9      -1.9       0.22   \n",
       " \n",
       "   cinf cdef  y77  \n",
       " 0    .    .    0  \n",
       " 1 -9.3  4.5    0  \n",
       " 2  2.5  1.3    0  \n",
       " 3  6.6   -3    0  \n",
       " 4   -6  2.4    0  ,\n",
       " 'describe':       count         mean        std      min      25%          50%      75%  \\\n",
       " year   49.0  1972.000000  14.288690  1948.00  1960.00  1972.000000  1984.00   \n",
       " i3     49.0     5.068980   2.965661     0.95     2.93     4.880000     6.69   \n",
       " inf    49.0     4.108163   3.182821    -1.20     1.70     3.200000     5.70   \n",
       " rec    49.0    17.838776   1.058855    14.50    17.50    17.800000    18.50   \n",
       " out    49.0    19.691837   2.514528    11.70    18.50    19.600000    21.50   \n",
       " def    49.0     1.853061   2.042680    -4.70     0.50     1.699999     3.10   \n",
       " y77    49.0     0.408163   0.496587     0.00     0.00     0.000000     1.00   \n",
       " \n",
       "           max  \n",
       " year  1996.00  \n",
       " i3      14.03  \n",
       " inf     13.50  \n",
       " rec     19.70  \n",
       " out     23.60  \n",
       " def      6.00  \n",
       " y77      1.00  ,\n",
       " 'dtypes': year       int64\n",
       " i3       float64\n",
       " inf      float64\n",
       " rec      float64\n",
       " out      float64\n",
       " def      float64\n",
       " i3_1      object\n",
       " inf_1     object\n",
       " def_1     object\n",
       " ci3       object\n",
       " cinf      object\n",
       " cdef      object\n",
       " y77        int64\n",
       " dtype: object}"
      ]
     },
     "execution_count": 33,
     "metadata": {},
     "output_type": "execute_result"
    }
   ],
   "source": [
    "my_eda.inspect()"
   ]
  },
  {
   "cell_type": "code",
   "execution_count": null,
   "metadata": {},
   "outputs": [],
   "source": []
  }
 ],
 "metadata": {
  "hide_input": false,
  "kernelspec": {
   "display_name": "Python 3",
   "language": "python",
   "name": "python3"
  },
  "language_info": {
   "codemirror_mode": {
    "name": "ipython",
    "version": 3
   },
   "file_extension": ".py",
   "mimetype": "text/x-python",
   "name": "python",
   "nbconvert_exporter": "python",
   "pygments_lexer": "ipython3",
   "version": "3.7.3"
  },
  "toc": {
   "base_numbering": 1,
   "nav_menu": {},
   "number_sections": true,
   "sideBar": true,
   "skip_h1_title": false,
   "title_cell": "Table of Contents",
   "title_sidebar": "Contents",
   "toc_cell": false,
   "toc_position": {},
   "toc_section_display": true,
   "toc_window_display": false
  },
  "varInspector": {
   "cols": {
    "lenName": 16,
    "lenType": 16,
    "lenVar": 40
   },
   "kernels_config": {
    "python": {
     "delete_cmd_postfix": "",
     "delete_cmd_prefix": "del ",
     "library": "var_list.py",
     "varRefreshCmd": "print(var_dic_list())"
    },
    "r": {
     "delete_cmd_postfix": ") ",
     "delete_cmd_prefix": "rm(",
     "library": "var_list.r",
     "varRefreshCmd": "cat(var_dic_list()) "
    }
   },
   "types_to_exclude": [
    "module",
    "function",
    "builtin_function_or_method",
    "instance",
    "_Feature"
   ],
   "window_display": false
  }
 },
 "nbformat": 4,
 "nbformat_minor": 2
}
